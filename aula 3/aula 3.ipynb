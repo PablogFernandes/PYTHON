{
 "cells": [
  {
   "cell_type": "code",
   "execution_count": 3,
   "id": "a7739a52",
   "metadata": {},
   "outputs": [
    {
     "name": "stdout",
     "output_type": "stream",
     "text": [
      "Hello World!\n"
     ]
    }
   ],
   "source": [
    "print(\"Hello World!\")"
   ]
  },
  {
   "cell_type": "code",
   "execution_count": null,
   "id": "aaabf00a",
   "metadata": {},
   "outputs": [],
   "source": []
  },
  {
   "cell_type": "code",
   "execution_count": null,
   "id": "7684a5cb",
   "metadata": {},
   "outputs": [],
   "source": []
  },
  {
   "cell_type": "markdown",
   "id": "19edf5d3",
   "metadata": {},
   "source": [
    "# Tipos de dados"
   ]
  },
  {
   "cell_type": "markdown",
   "id": "80e497f7",
   "metadata": {},
   "source": [
    "### String"
   ]
  },
  {
   "cell_type": "code",
   "execution_count": 7,
   "id": "ee499dff",
   "metadata": {},
   "outputs": [
    {
     "name": "stdout",
     "output_type": "stream",
     "text": [
      "esse é um texto de aspas simples.\n",
      "esse é um texto de aspas duplas.\n",
      " esse é um texto de aspas tripas simples. \n",
      " esse é um texto de aspas triplas duplas. \n"
     ]
    }
   ],
   "source": [
    "print('esse é um texto de aspas simples.')\n",
    "print(\"esse é um texto de aspas duplas.\")\n",
    "print(''' esse é um texto de aspas tripas simples. ''')\n",
    "print(\"\"\" esse é um texto de aspas triplas duplas. \"\"\")"
   ]
  },
  {
   "cell_type": "markdown",
   "id": "bc04e023",
   "metadata": {},
   "source": [
    "### CASOS ESPECIAIS DAS STRINGS"
   ]
  },
  {
   "cell_type": "markdown",
   "id": "ec153285",
   "metadata": {},
   "source": [
    "ESCAPE CHARACTER "
   ]
  },
  {
   "cell_type": "code",
   "execution_count": 13,
   "id": "d1c61534",
   "metadata": {
    "scrolled": true
   },
   "outputs": [
    {
     "name": "stdout",
     "output_type": "stream",
     "text": [
      "\"don't look at me\n"
     ]
    }
   ],
   "source": [
    "print(\"\\\"don't look at me\")"
   ]
  },
  {
   "cell_type": "code",
   "execution_count": 33,
   "id": "43a32738",
   "metadata": {
    "scrolled": true
   },
   "outputs": [
    {
     "name": "stdout",
     "output_type": "stream",
     "text": [
      "Olá mundo, \n",
      " meu nome é Pablo\n"
     ]
    }
   ],
   "source": [
    "print(\"Olá mundo, \\n meu nome é Pablo\")"
   ]
  },
  {
   "cell_type": "code",
   "execution_count": null,
   "id": "a44d4ad3",
   "metadata": {
    "scrolled": true
   },
   "outputs": [],
   "source": [
    "dados = input(\"digite seu nome e idade: \").split()\n",
    "print(f\"olá {dados[0]}.\\nSua idade é: {dados[1]}\")"
   ]
  },
  {
   "cell_type": "markdown",
   "id": "686b4db1",
   "metadata": {},
   "source": [
    "### SPLIT"
   ]
  },
  {
   "cell_type": "code",
   "execution_count": null,
   "id": "89d9a96a",
   "metadata": {},
   "outputs": [],
   "source": [
    "\"nome, idade, cpf, email\".split(\",\")"
   ]
  },
  {
   "cell_type": "markdown",
   "id": "a58736cb",
   "metadata": {},
   "source": [
    "### Manipulando strings/texto "
   ]
  },
  {
   "cell_type": "code",
   "execution_count": 27,
   "id": "1c844cb0",
   "metadata": {},
   "outputs": [
    {
     "name": "stdout",
     "output_type": "stream",
     "text": [
      "\n",
      "35,São Paulo, SP\n",
      "41,Paraná, PR\n",
      "42,Santa Catarina, SC\n",
      "43,Rio Grande do Sul, RS\n",
      "50,Mato Grosso do Sul, MS\n",
      "11,Rondônia, RO\n",
      "12,Acre, AC\n",
      "13,Amazonas, AM\n",
      "14,Roraima, RR\n",
      "15,Pará, PA\n",
      "16,Amapá, AP\n",
      "17,Tocantins, TO\n",
      "21,Maranhão, MA\n",
      "24,Rio Grande do Norte, RN\n",
      "25,Paraíba, PB\n",
      "26,Pernambuco, PE\n",
      "27,Alagoas, AL\n",
      "28,Sergipe, SE\n",
      "29,Bahia, BA\n",
      "31,Minas Gerais, MG\n",
      "33,Rio de Janeiro, RJ\n",
      "51,Mato Grosso, MT\n",
      "52,Goiás, GO\n",
      "53,Distrito Federal, DF\n",
      "22,Piauí, PI\n",
      "23,Ceará, CE\n",
      "32,Espírito Santo, ES\n",
      "\n"
     ]
    }
   ],
   "source": [
    "estados = \"\"\"\n",
    "35,São Paulo, SP\n",
    "41,Paraná, PR\n",
    "42,Santa Catarina, SC\n",
    "43,Rio Grande do Sul, RS\n",
    "50,Mato Grosso do Sul, MS\n",
    "11,Rondônia, RO\n",
    "12,Acre, AC\n",
    "13,Amazonas, AM\n",
    "14,Roraima, RR\n",
    "15,Pará, PA\n",
    "16,Amapá, AP\n",
    "17,Tocantins, TO\n",
    "21,Maranhão, MA\n",
    "24,Rio Grande do Norte, RN\n",
    "25,Paraíba, PB\n",
    "26,Pernambuco, PE\n",
    "27,Alagoas, AL\n",
    "28,Sergipe, SE\n",
    "29,Bahia, BA\n",
    "31,Minas Gerais, MG\n",
    "33,Rio de Janeiro, RJ\n",
    "51,Mato Grosso, MT\n",
    "52,Goiás, GO\n",
    "53,Distrito Federal, DF\n",
    "22,Piauí, PI\n",
    "23,Ceará, CE\n",
    "32,Espírito Santo, ES\n",
    "\"\"\"\n",
    "print(estados)"
   ]
  },
  {
   "cell_type": "code",
   "execution_count": 31,
   "id": "f8b4732c",
   "metadata": {},
   "outputs": [
    {
     "data": {
      "text/plain": [
       "['',\n",
       " '35,São Paulo, SP',\n",
       " '41,Paraná, PR',\n",
       " '42,Santa Catarina, SC',\n",
       " '43,Rio Grande do Sul, RS',\n",
       " '50,Mato Grosso do Sul, MS',\n",
       " '11,Rondônia, RO',\n",
       " '12,Acre, AC',\n",
       " '13,Amazonas, AM',\n",
       " '14,Roraima, RR',\n",
       " '15,Pará, PA',\n",
       " '16,Amapá, AP',\n",
       " '17,Tocantins, TO',\n",
       " '21,Maranhão, MA',\n",
       " '24,Rio Grande do Norte, RN',\n",
       " '25,Paraíba, PB',\n",
       " '26,Pernambuco, PE',\n",
       " '27,Alagoas, AL',\n",
       " '28,Sergipe, SE',\n",
       " '29,Bahia, BA',\n",
       " '31,Minas Gerais, MG',\n",
       " '33,Rio de Janeiro, RJ',\n",
       " '51,Mato Grosso, MT',\n",
       " '52,Goiás, GO',\n",
       " '53,Distrito Federal, DF',\n",
       " '22,Piauí, PI',\n",
       " '23,Ceará, CE',\n",
       " '32,Espírito Santo, ES',\n",
       " '']"
      ]
     },
     "execution_count": 31,
     "metadata": {},
     "output_type": "execute_result"
    }
   ],
   "source": [
    "estados.split(\"\\n\")"
   ]
  },
  {
   "cell_type": "markdown",
   "id": "816fa5da",
   "metadata": {},
   "source": [
    "### LISTAS MUTÁVEIS"
   ]
  },
  {
   "cell_type": "code",
   "execution_count": 41,
   "id": "f92c75ef",
   "metadata": {},
   "outputs": [
    {
     "name": "stdout",
     "output_type": "stream",
     "text": [
      "['tomate', 'maçã', 'morango', 'banana', 'pera', 'pessego']\n"
     ]
    }
   ],
   "source": [
    "frutas = [\"tomate\", \"maçã\", \"morango\", \"banana\", \"pera\", \"pessego\"] \n",
    "print(frutas) "
   ]
  },
  {
   "cell_type": "code",
   "execution_count": 12,
   "id": "45dfc4ab",
   "metadata": {},
   "outputs": [
    {
     "name": "stdout",
     "output_type": "stream",
     "text": [
      "digite seu nome e sobrenome: Pablo Fernandes\n",
      "a inicial do seu nome é:P, do seu sobrenome: F\n"
     ]
    }
   ],
   "source": [
    "nome, sobrenome = input(\"digite seu nome e sobrenome: \").split()\n",
    "print(f\"a inicial do seu nome é:{nome[0]}, do seu sobrenome: {sobrenome[0]}\")\n",
    "\n"
   ]
  },
  {
   "cell_type": "markdown",
   "id": "ebb28608",
   "metadata": {},
   "source": [
    "### outros tipos de string/texto"
   ]
  },
  {
   "cell_type": "code",
   "execution_count": 13,
   "id": "74547c8d",
   "metadata": {},
   "outputs": [
    {
     "data": {
      "text/plain": [
       "b' encoded text'"
      ]
     },
     "execution_count": 13,
     "metadata": {},
     "output_type": "execute_result"
    }
   ],
   "source": [
    "r'raw string' # texto seco, cru, literal\n",
    "b' encoded text' # "
   ]
  },
  {
   "cell_type": "markdown",
   "id": "3670ee9d",
   "metadata": {},
   "source": [
    "## FUNÇÕES"
   ]
  },
  {
   "cell_type": "markdown",
   "id": "a559ba2e",
   "metadata": {},
   "source": [
    "### Criando funções próprias"
   ]
  },
  {
   "cell_type": "markdown",
   "id": "3d960ce8",
   "metadata": {},
   "source": [
    "* Função dummy"
   ]
  },
  {
   "cell_type": "code",
   "execution_count": 17,
   "id": "1a56c3ee",
   "metadata": {},
   "outputs": [
    {
     "data": {
      "text/plain": [
       "'olatalvez '"
      ]
     },
     "execution_count": 17,
     "metadata": {},
     "output_type": "execute_result"
    }
   ],
   "source": [
    "# criação de função \n",
    "\n",
    "def func2(parametro1, parametro2):\n",
    "    return parametro1 + parametro2\n",
    "\n",
    "valor = func2(\"ola\", \"talvez \")\n",
    "print"
   ]
  }
 ],
 "metadata": {
  "kernelspec": {
   "display_name": "Python 3 (ipykernel)",
   "language": "python",
   "name": "python3"
  },
  "language_info": {
   "codemirror_mode": {
    "name": "ipython",
    "version": 3
   },
   "file_extension": ".py",
   "mimetype": "text/x-python",
   "name": "python",
   "nbconvert_exporter": "python",
   "pygments_lexer": "ipython3",
   "version": "3.9.7"
  }
 },
 "nbformat": 4,
 "nbformat_minor": 5
}
