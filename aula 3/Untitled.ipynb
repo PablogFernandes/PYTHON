{
 "cells": [
  {
   "cell_type": "markdown",
   "id": "a3002463",
   "metadata": {},
   "source": [
    "## coisas importantes"
   ]
  },
  {
   "cell_type": "markdown",
   "id": "58b80753",
   "metadata": {},
   "source": [
    "O código fonte deve ser rigorozamente seguido "
   ]
  },
  {
   "cell_type": "markdown",
   "id": "fcadf094",
   "metadata": {},
   "source": [
    "nao adicione espaços nas funções nem nos objetos "
   ]
  },
  {
   "cell_type": "markdown",
   "id": "375af6b0",
   "metadata": {},
   "source": [
    "Contudo, adicione espaços nas variáveis e valores"
   ]
  },
  {
   "cell_type": "markdown",
   "id": "3447facc",
   "metadata": {},
   "source": [
    "## dry"
   ]
  },
  {
   "cell_type": "markdown",
   "id": "8d2f6c87",
   "metadata": {},
   "source": [
    " do not report yourself"
   ]
  },
  {
   "cell_type": "markdown",
   "id": "b8ed5569",
   "metadata": {},
   "source": [
    "## Laços de repetição"
   ]
  },
  {
   "cell_type": "code",
   "execution_count": 6,
   "id": "b445c76c",
   "metadata": {},
   "outputs": [
    {
     "name": "stdout",
     "output_type": "stream",
     "text": [
      "=^^=\n",
      "=^^=\n",
      "=^^=\n",
      "=^^=\n",
      "=^^=\n",
      "=^^=\n",
      "=^^=\n",
      "=^^=\n",
      "=^^=\n",
      "=^^=\n"
     ]
    }
   ],
   "source": [
    "# jeito cavalo \n",
    "print (\"=^^=\")\n",
    "print (\"=^^=\")\n",
    "print (\"=^^=\")\n",
    "print (\"=^^=\")\n",
    "print (\"=^^=\")\n",
    "print (\"=^^=\")\n",
    "print (\"=^^=\")\n",
    "print (\"=^^=\")\n",
    "print (\"=^^=\")\n",
    "print (\"=^^=\")"
   ]
  },
  {
   "cell_type": "markdown",
   "id": "cde7c66c",
   "metadata": {},
   "source": [
    "# # Estruturas de repetição FOR"
   ]
  },
  {
   "cell_type": "markdown",
   "id": "6bc30e2f",
   "metadata": {},
   "source": [
    "for variavel in ITERADOR"
   ]
  },
  {
   "cell_type": "markdown",
   "id": "87d81979",
   "metadata": {},
   "source": [
    "    Para cada elemento \"for\" dentro do \"ITERADOR\" salve temporáriamente um valor contido no \"ITERADOR\" na variável \"variável\"\n",
    "    \n",
    "    execute o código abaixo o mesmo tanto de vezes que o tamanho do \"ITERADOR\"\n",
    " "
   ]
  },
  {
   "cell_type": "code",
   "execution_count": 9,
   "id": "a910ab33",
   "metadata": {},
   "outputs": [],
   "source": [
    "lista = [1, \"texto\", []]\n",
    "textos = \"o rato roeu a roupa do rei de roma\"\n",
    "tuplas = (1, \"texto\", [])\n",
    "dicionario_de_uma_linha = {\"chave\": \"valor\", \"dog\": \"cachorro\"}\n",
    "alcance_escopo = range(30)"
   ]
  },
  {
   "cell_type": "markdown",
   "id": "02d9c388",
   "metadata": {},
   "source": [
    "# TRABALHANDO dados \n",
    "\n",
    "* listas\n",
    "* textos (string)\n",
    "* tuplas \n",
    "* dicionario \n",
    "* range \n"
   ]
  },
  {
   "cell_type": "code",
   "execution_count": 11,
   "id": "95b60732",
   "metadata": {},
   "outputs": [
    {
     "name": "stdout",
     "output_type": "stream",
     "text": [
      "=^^=\n",
      "=^^=\n",
      "=^^=\n",
      "=^^=\n",
      "=^^=\n",
      "=^^=\n",
      "=^^=\n",
      "=^^=\n",
      "=^^=\n",
      "=^^=\n"
     ]
    }
   ],
   "source": [
    "for variavel in range (10):\n",
    "    print (\"=^^=\")\n",
    "    "
   ]
  },
  {
   "cell_type": "code",
   "execution_count": 16,
   "id": "c9077ce3",
   "metadata": {
    "scrolled": true
   },
   "outputs": [
    {
     "name": "stdout",
     "output_type": "stream",
     "text": [
      "azeitona\n",
      "papel higiênico\n",
      "pasta de dente\n"
     ]
    }
   ],
   "source": [
    "# trabalhando com listas\n",
    "\n",
    "tamanho_minimo = 8\n",
    "compras = [\"arroz\", \"feijão\", \"carne\", \"azeitona\", \"batata\", \"cenoura\", \"sushi\", \"papel higiênico\", \"pasta de dente\", ]\n",
    "for item in compras:\n",
    "    if len(item) < tamanho_minimo:\n",
    "        pass\n",
    "    else: \n",
    "        print(item)"
   ]
  },
  {
   "cell_type": "code",
   "execution_count": 17,
   "id": "29cf751d",
   "metadata": {},
   "outputs": [
    {
     "name": "stdout",
     "output_type": "stream",
     "text": [
      "toranja\n",
      "maça\n",
      "pera\n",
      "uva\n"
     ]
    }
   ],
   "source": [
    "for fruta in ['toranja', 'maça', 'pera', 'uva']:\n",
    "    print(fruta)"
   ]
  },
  {
   "cell_type": "markdown",
   "id": "d7b06637",
   "metadata": {},
   "source": [
    "# Criando um menu"
   ]
  },
  {
   "cell_type": "code",
   "execution_count": 22,
   "id": "3d491fd5",
   "metadata": {},
   "outputs": [
    {
     "name": "stdout",
     "output_type": "stream",
     "text": [
      "1 - chá\n",
      "2 - chocolate quente\n",
      "3 - espresso\n",
      "4 - caputino\n"
     ]
    }
   ],
   "source": [
    "# menu de um restaurante\n",
    "opcoes = ['chá', 'chocolate quente', 'espresso', 'caputino']\n",
    "\n",
    "for posicao, opcoes in enumerate(opcoes):\n",
    "    print (f\"{posicao +1} - {opcoes}\")\n",
    "\n",
    "pedido = input (\"selecione uma das opções acima \")"
   ]
  }
 ],
 "metadata": {
  "kernelspec": {
   "display_name": "Python 3 (ipykernel)",
   "language": "python",
   "name": "python3"
  },
  "language_info": {
   "codemirror_mode": {
    "name": "ipython",
    "version": 3
   },
   "file_extension": ".py",
   "mimetype": "text/x-python",
   "name": "python",
   "nbconvert_exporter": "python",
   "pygments_lexer": "ipython3",
   "version": "3.9.7"
  }
 },
 "nbformat": 4,
 "nbformat_minor": 5
}
